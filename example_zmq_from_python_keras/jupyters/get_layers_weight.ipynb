{
 "cells": [
  {
   "cell_type": "code",
   "execution_count": 10,
   "metadata": {
    "collapsed": false
   },
   "outputs": [],
   "source": [
    "import csv\n",
    "import numpy as np\n",
    "import seaborn as sns\n",
    "import matplotlib.pyplot as plt\n",
    "%matplotlib inline\n",
    "from keras.utils import np_utils\n",
    "from keras.preprocessing.image import ImageDataGenerator\n",
    "from keras.models import Sequential\n",
    "from keras.models import Model\n",
    "from keras.models import model_from_json\n",
    "from keras.layers import Dense, Dropout, Activation, Flatten, Input\n",
    "from keras.layers import Convolution2D, MaxPooling2D, AveragePooling2D\n",
    "from keras.optimizers import Adam\n",
    "from keras import backend as K\n",
    "import glob\n",
    "from PIL import Image\n",
    "import json\n",
    "import h5py\n",
    "import os"
   ]
  },
  {
   "cell_type": "code",
   "execution_count": 26,
   "metadata": {
    "collapsed": false
   },
   "outputs": [],
   "source": [
    "json_string = open(os.path.join('./', 'cnn_functional_model.json')).read()\n",
    "model = model_from_json(json_string)\n",
    "layer_dict = dict([(layer.name, layer) for layer in model.layers])"
   ]
  },
  {
   "cell_type": "code",
   "execution_count": 12,
   "metadata": {
    "collapsed": false
   },
   "outputs": [],
   "source": [
    "weights_path = './fModel_weight.h5'\n",
    "with h5py.File(weights_path) as f:\n",
    "    layer_names = [n.decode('utf8') for n in f.attrs['layer_names']]\n",
    "    weight_value_tuples = []\n",
    "    for k, name in enumerate(layer_names):\n",
    "        if k >= len(model.layers):\n",
    "            # 全結合層の重みは読み込まない\n",
    "            break\n",
    "        g = f[name]\n",
    "        weight_names = [n.decode('utf8') for n in g.attrs['weight_names']]\n",
    "        if len(weight_names):\n",
    "            weight_values = [g[weight_name] for weight_name in weight_names]\n",
    "            layer = model.layers[k]\n",
    "            symbolic_weights = layer.trainable_weights + layer.non_trainable_weights\n",
    "            if len(weight_values) != len(symbolic_weights):\n",
    "                raise Exception('Layer #' + str(k) +\n",
    "                            ' (named \"' + layer.name +\n",
    "                            '\" in the current model) was found to '\n",
    "                            'correspond to layer ' + name +\n",
    "                            ' in the save file. '\n",
    "                            'However the new layer ' + layer.name +\n",
    "                            ' expects ' + str(len(symbolic_weights)) +\n",
    "                            ' weights, but the saved weights have ' +\n",
    "                            str(len(weight_values)) +\n",
    "                            ' elements.')\n",
    "            weight_value_tuples += zip(symbolic_weights, weight_values)"
   ]
  },
  {
   "cell_type": "code",
   "execution_count": 14,
   "metadata": {
    "collapsed": false
   },
   "outputs": [
    {
     "name": "stdout",
     "output_type": "stream",
     "text": [
      "('len layer names:', 12)\n",
      "('len model layers:', 12)\n",
      "('layer names:', [u'input_8', u'convolution2d_53', u'convolution2d_54', u'convolution2d_55', u'dropout_13', u'flatten_13', u'dense_37', u'activation_37', u'dense_38', u'activation_38', u'dense_39', u'activation_39'])\n",
      "('model layer names:', [u'input_1', u'convolution2d_32', u'convolution2d_33', u'convolution2d_34', u'dropout_6', u'flatten_6', u'dense_16', u'activation_16', u'dense_17', u'activation_17', u'dense_18', u'activation_18'])\n"
     ]
    }
   ],
   "source": [
    "print('len layer names:', len(layer_names))\n",
    "print('len model layers:', len(model.layers))\n",
    "print('layer names:', layer_names)\n",
    "print('model layer names:', [layer.name for layer in model.layers])"
   ]
  },
  {
   "cell_type": "code",
   "execution_count": 32,
   "metadata": {
    "collapsed": false
   },
   "outputs": [],
   "source": [
    "from keras.utils.visualize_util import plot\n",
    "plot(model, to_file=\"model.png\", show_shapes=True)"
   ]
  },
  {
   "cell_type": "code",
   "execution_count": 33,
   "metadata": {
    "collapsed": false
   },
   "outputs": [
    {
     "ename": "NameError",
     "evalue": "name 'X' is not defined",
     "output_type": "error",
     "traceback": [
      "\u001b[0;31m---------------------------------------------------------------------------\u001b[0m",
      "\u001b[0;31mNameError\u001b[0m                                 Traceback (most recent call last)",
      "\u001b[0;32m<ipython-input-33-3af4ad9a17b5>\u001b[0m in \u001b[0;36m<module>\u001b[0;34m()\u001b[0m\n\u001b[1;32m      3\u001b[0m \u001b[0;34m\u001b[0m\u001b[0m\n\u001b[1;32m      4\u001b[0m \u001b[0;31m# output in test mode = 0\u001b[0m\u001b[0;34m\u001b[0m\u001b[0;34m\u001b[0m\u001b[0m\n\u001b[0;32m----> 5\u001b[0;31m \u001b[0mlayer_output\u001b[0m \u001b[0;34m=\u001b[0m \u001b[0mget_3rd_layer_output\u001b[0m\u001b[0;34m(\u001b[0m\u001b[0;34m[\u001b[0m\u001b[0mX\u001b[0m\u001b[0;34m,\u001b[0m \u001b[0;36m0\u001b[0m\u001b[0;34m]\u001b[0m\u001b[0;34m)\u001b[0m\u001b[0;34m[\u001b[0m\u001b[0;36m0\u001b[0m\u001b[0;34m]\u001b[0m\u001b[0;34m\u001b[0m\u001b[0m\n\u001b[0m\u001b[1;32m      6\u001b[0m \u001b[0;34m\u001b[0m\u001b[0m\n\u001b[1;32m      7\u001b[0m \u001b[0;31m# output in train mode = 1\u001b[0m\u001b[0;34m\u001b[0m\u001b[0;34m\u001b[0m\u001b[0m\n",
      "\u001b[0;31mNameError\u001b[0m: name 'X' is not defined"
     ]
    }
   ],
   "source": [
    "get_3rd_layer_output = K.function([model.layers[0].input, K.learning_phase()],\n",
    "                                  [model.layers[3].output])\n",
    "\n",
    "# output in test mode = 0\n",
    "layer_output = get_3rd_layer_output([X, 0])[0]\n",
    "\n",
    "# output in train mode = 1\n",
    "layer_output = get_3rd_layer_output([X, 1])[0]"
   ]
  },
  {
   "cell_type": "code",
   "execution_count": null,
   "metadata": {
    "collapsed": true
   },
   "outputs": [],
   "source": []
  }
 ],
 "metadata": {
  "kernelspec": {
   "display_name": "Python 2",
   "language": "python",
   "name": "python2"
  },
  "language_info": {
   "codemirror_mode": {
    "name": "ipython",
    "version": 2
   },
   "file_extension": ".py",
   "mimetype": "text/x-python",
   "name": "python",
   "nbconvert_exporter": "python",
   "pygments_lexer": "ipython2",
   "version": "2.7.11"
  }
 },
 "nbformat": 4,
 "nbformat_minor": 0
}
